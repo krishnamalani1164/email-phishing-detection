{
  "nbformat": 4,
  "nbformat_minor": 0,
  "metadata": {
    "colab": {
      "provenance": [],
      "authorship_tag": "ABX9TyPHXIK/QUFEdHstPa12gfYy",
      "include_colab_link": true
    },
    "kernelspec": {
      "name": "python3",
      "display_name": "Python 3"
    },
    "language_info": {
      "name": "python"
    }
  },
  "cells": [
    {
      "cell_type": "markdown",
      "metadata": {
        "id": "view-in-github",
        "colab_type": "text"
      },
      "source": [
        "<a href=\"https://colab.research.google.com/github/krishnamalani1164/email-phishing-detection/blob/main/phishing.ipynb\" target=\"_parent\"><img src=\"https://colab.research.google.com/assets/colab-badge.svg\" alt=\"Open In Colab\"/></a>"
      ]
    },
    {
      "cell_type": "code",
      "source": [
        "import pandas as pd\n",
        "import numpy as np\n",
        "import matplotlib.pyplot as plt\n",
        "import seaborn as sns\n",
        "from sklearn.model_selection import train_test_split ,cross_val_score,GridSearchCV\n",
        "from sklearn.feature_extraction.text import TfidfVectorizer , CountVectorizer\n",
        "from sklearn.linear_model import LogisticRegression\n",
        "from sklearn.ensemble import RandomForestClassifier\n",
        "from sklearn.naive_bayes import MultinomialNB\n",
        "from sklearn.svm import SVC\n",
        "from sklearn.metrics import classification_report, confusion_matrix, accuracy_score,roc_auc_score ,roc_curve\n",
        "import re\n",
        "import string\n",
        "import nltk\n",
        "from nltk.corpus import stopwords\n",
        "from nltk.stem import WordNetLemmatizer\n",
        "from nltk.tokenize import word_tokenize\n",
        "import warnings\n",
        "warnings.filterwarnings('ignore')"
      ],
      "metadata": {
        "id": "_s5gVq_vFeVY"
      },
      "execution_count": 16,
      "outputs": []
    },
    {
      "cell_type": "code",
      "execution_count": 17,
      "metadata": {
        "id": "mi2GpiFeDqxF",
        "colab": {
          "base_uri": "https://localhost:8080/"
        },
        "outputId": "381726f5-38f7-401b-c34c-433eb51acbb4"
      },
      "outputs": [
        {
          "output_type": "stream",
          "name": "stderr",
          "text": [
            "[nltk_data] Downloading package punkt to /root/nltk_data...\n",
            "[nltk_data]   Package punkt is already up-to-date!\n",
            "[nltk_data] Downloading package stopwords to /root/nltk_data...\n",
            "[nltk_data]   Package stopwords is already up-to-date!\n",
            "[nltk_data] Downloading package wordnet to /root/nltk_data...\n",
            "[nltk_data]   Package wordnet is already up-to-date!\n",
            "[nltk_data] Downloading package omw-1.4 to /root/nltk_data...\n",
            "[nltk_data]   Package omw-1.4 is already up-to-date!\n"
          ]
        },
        {
          "output_type": "execute_result",
          "data": {
            "text/plain": [
              "True"
            ]
          },
          "metadata": {},
          "execution_count": 17
        }
      ],
      "source": [
        "nltk.download('punkt')\n",
        "nltk.download('stopwords')\n",
        "nltk.download('wordnet')\n",
        "nltk.download('omw-1.4')"
      ]
    },
    {
      "cell_type": "code",
      "source": [
        "print(\"Email Phishing Detection Pipeline\")\n",
        "print(\"=\" * 50)"
      ],
      "metadata": {
        "colab": {
          "base_uri": "https://localhost:8080/"
        },
        "id": "2hekEbbfoEgw",
        "outputId": "394d2870-8ca3-481b-85fe-a8831c9e2e9a"
      },
      "execution_count": 18,
      "outputs": [
        {
          "output_type": "stream",
          "name": "stdout",
          "text": [
            "Email Phishing Detection Pipeline\n",
            "==================================================\n"
          ]
        }
      ]
    },
    {
      "cell_type": "code",
      "source": [
        "def load_csv_data():\n",
        "    \"\"\"\n",
        "    Load email spam detection dataset from CSV file: emails.csv\n",
        "    Expected format:\n",
        "    - Column 1: Email identifiers\n",
        "    - Columns 2-3001: Word frequency features (3000 most common words)\n",
        "    - Column 3002: Labels (1 for spam, 0 for not spam)\n",
        "    \"\"\"\n",
        "    try:\n",
        "        # Try to load emails.csv directly (if already uploaded to Colab)\n",
        "        csv_filename = 'emails.csv'\n",
        "        df = pd.read_csv(csv_filename)\n",
        "        print(f\"Dataset loaded successfully from {csv_filename}\")\n",
        "    except FileNotFoundError:\n",
        "        # If file not found, prompt user to upload\n",
        "        print(\"emails.csv not found. Please upload your dataset file:\")\n",
        "        from google.colab import files\n",
        "        uploaded = files.upload()\n",
        "\n",
        "        # Check if emails.csv was uploaded\n",
        "        if 'emails.csv' in uploaded:\n",
        "            csv_filename = 'emails.csv'\n",
        "        else:\n",
        "            # If a different filename was uploaded, use the first one and rename it\n",
        "            uploaded_filename = list(uploaded.keys())[0]\n",
        "            print(f\"Renaming {uploaded_filename} to emails.csv\")\n",
        "            import os\n",
        "            os.rename(uploaded_filename, 'emails.csv')\n",
        "            csv_filename = 'emails.csv'\n",
        "\n",
        "        # Load the dataset\n",
        "        df = pd.read_csv(csv_filename)\n",
        "        print(f\"Dataset loaded successfully from {csv_filename}\")\n",
        "\n",
        "    print(f\"Dataset shape: {df.shape}\")\n",
        "\n",
        "    # Verify the expected structure\n",
        "    expected_cols = 3002\n",
        "    if df.shape[1] != expected_cols:\n",
        "        print(f\"Warning: Expected {expected_cols} columns, found {df.shape[1]} columns\")\n",
        "        print(\"Please verify your dataset structure matches the expected format\")\n",
        "\n",
        "    # Extract features and labels according to your dataset structure\n",
        "    email_ids = df.iloc[:, 0]  # First column: Email identifiers\n",
        "    word_features = df.iloc[:, 1:-1]  # Columns 2-3001: Word frequency features\n",
        "    labels = df.iloc[:, -1]  # Last column: Labels\n",
        "\n",
        "    # Verify labels are binary (0 and 1)\n",
        "    unique_labels = labels.unique()\n",
        "    print(f\"Unique labels found: {unique_labels}\")\n",
        "    if not all(label in [0, 1] for label in unique_labels):\n",
        "        print(\"Warning: Labels should be binary (0 for not spam, 1 for spam)\")\n",
        "\n",
        "    print(f\"Email IDs shape: {email_ids.shape}\")\n",
        "    print(f\"Word features shape: {word_features.shape}\")\n",
        "    print(f\"Labels shape: {labels.shape}\")\n",
        "\n",
        "    return df, word_features, labels, email_ids\n"
      ],
      "metadata": {
        "id": "1_psX61Yo0oA"
      },
      "execution_count": 19,
      "outputs": []
    },
    {
      "cell_type": "code",
      "source": [
        "print(\"Loading dataset...\")\n",
        "df, word_features, labels, email_ids = load_csv_data()\n",
        "\n",
        "# Display basic information about the dataset\n",
        "print(\"Dataset Shape:\", df.shape)\n",
        "print(\"\\nDataset Info:\")\n",
        "print(df.info())\n",
        "print(\"\\nClass Distribution:\")\n",
        "print(labels.value_counts())\n",
        "print(\"\\nClass Distribution Percentage:\")\n",
        "print(labels.value_counts(normalize=True) * 100)"
      ],
      "metadata": {
        "colab": {
          "base_uri": "https://localhost:8080/"
        },
        "id": "Q6EKKMTIeTbm",
        "outputId": "3926b601-cdad-4f0e-89c7-f38eecc7f5a8"
      },
      "execution_count": 20,
      "outputs": [
        {
          "output_type": "stream",
          "name": "stdout",
          "text": [
            "Loading dataset...\n",
            "Dataset loaded successfully from emails.csv\n",
            "Dataset shape: (5172, 3002)\n",
            "Unique labels found: [0 1]\n",
            "Email IDs shape: (5172,)\n",
            "Word features shape: (5172, 3000)\n",
            "Labels shape: (5172,)\n",
            "Dataset Shape: (5172, 3002)\n",
            "\n",
            "Dataset Info:\n",
            "<class 'pandas.core.frame.DataFrame'>\n",
            "RangeIndex: 5172 entries, 0 to 5171\n",
            "Columns: 3002 entries, Email No. to Prediction\n",
            "dtypes: int64(3001), object(1)\n",
            "memory usage: 118.5+ MB\n",
            "None\n",
            "\n",
            "Class Distribution:\n",
            "Prediction\n",
            "0    3672\n",
            "1    1500\n",
            "Name: count, dtype: int64\n",
            "\n",
            "Class Distribution Percentage:\n",
            "Prediction\n",
            "0    70.99768\n",
            "1    29.00232\n",
            "Name: proportion, dtype: float64\n"
          ]
        }
      ]
    },
    {
      "cell_type": "code",
      "source": [
        "# We'll use this as our feature matrix X\n",
        "X = word_features.values\n",
        "y = labels.values"
      ],
      "metadata": {
        "id": "FWAFdzEOnTiA"
      },
      "execution_count": 21,
      "outputs": []
    },
    {
      "cell_type": "code",
      "source": [
        "print(f\"\\nFeature matrix shape: {X.shape}\")\n",
        "print(f\"Target vector shape: {y.shape}\")\n",
        "\n",
        "# Check data sparsity\n",
        "sparsity = (X == 0).sum() / (X.shape[0] * X.shape[1])\n",
        "print(f\"Data sparsity: {sparsity:.2%}\")\n",
        "\n",
        "# Display some basic statistics\n",
        "print(f\"\\nFeature statistics:\")\n",
        "print(f\"Mean word count per email: {X.mean(axis=1).mean():.2f}\")\n",
        "print(f\"Max word count in any email: {X.max()}\")\n",
        "print(f\"Min word count in any email: {X.min()}\")"
      ],
      "metadata": {
        "colab": {
          "base_uri": "https://localhost:8080/"
        },
        "id": "zrczH9zKnbIX",
        "outputId": "02f7cdbb-46f6-4d99-ba92-78189c2bbddd"
      },
      "execution_count": 22,
      "outputs": [
        {
          "output_type": "stream",
          "name": "stdout",
          "text": [
            "\n",
            "Feature matrix shape: (5172, 3000)\n",
            "Target vector shape: (5172,)\n",
            "Data sparsity: 94.37%\n",
            "\n",
            "Feature statistics:\n",
            "Mean word count per email: 0.39\n",
            "Max word count in any email: 2327\n",
            "Min word count in any email: 0\n"
          ]
        }
      ]
    },
    {
      "cell_type": "code",
      "source": [
        "# Show example of word frequency for first few emails\n",
        "print(f\"\\nFirst 5 emails word count statistics:\")\n",
        "for i in range(min(5, len(X))):\n",
        "    total_words = X[i].sum()\n",
        "    non_zero_features = (X[i] > 0).sum()\n",
        "    label_text = \"Spam\" if y[i] == 1 else \"Not Spam\"\n",
        "    print(f\"Email {i+1}: {total_words} total words, {non_zero_features} unique words, Label: {label_text}\")"
      ],
      "metadata": {
        "colab": {
          "base_uri": "https://localhost:8080/"
        },
        "id": "OfzvayDxnhG1",
        "outputId": "26fb2d30-965d-49c9-ceb3-14b768571b4f"
      },
      "execution_count": 23,
      "outputs": [
        {
          "output_type": "stream",
          "name": "stdout",
          "text": [
            "\n",
            "First 5 emails word count statistics:\n",
            "Email 1: 53 total words, 34 unique words, Label: Not Spam\n",
            "Email 2: 2203 total words, 276 unique words, Label: Not Spam\n",
            "Email 3: 113 total words, 45 unique words, Label: Not Spam\n",
            "Email 4: 1019 total words, 172 unique words, Label: Not Spam\n",
            "Email 5: 1075 total words, 167 unique words, Label: Not Spam\n"
          ]
        }
      ]
    }
  ]
}